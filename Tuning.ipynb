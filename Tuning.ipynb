{
 "cells": [
  {
   "cell_type": "markdown",
   "id": "76abf9e0",
   "metadata": {},
   "source": [
    "# Hyperparameter Tuning"
   ]
  },
  {
   "cell_type": "markdown",
   "id": "0bfea05c",
   "metadata": {},
   "source": [
    "# EDA/DATA PREP"
   ]
  },
  {
   "cell_type": "code",
   "execution_count": 1,
   "id": "a1c8c2e3",
   "metadata": {},
   "outputs": [],
   "source": [
    "import numpy as np\n",
    "import pandas as pd\n",
    "import re\n",
    "import string\n",
    "import warnings\n",
    "from timeit import timeit\n",
    "warnings.filterwarnings('ignore')\n",
    "\n",
    "from sklearn.model_selection import train_test_split\n",
    "from sklearn.feature_extraction.text import TfidfVectorizer\n",
    "from sklearn import metrics \n",
    "from sklearn.metrics import ConfusionMatrixDisplay\n",
    "from sklearn.model_selection import cross_val_score\n",
    "from sklearn.model_selection import GridSearchCV\n",
    "from sklearn.experimental import enable_halving_search_cv\n",
    "from sklearn.model_selection import HalvingGridSearchCV\n",
    "from sklearn.linear_model import LogisticRegression\n",
    "from sklearn.ensemble import RandomForestClassifier\n",
    "from sklearn.preprocessing import MinMaxScaler\n",
    "from sklearn.compose import ColumnTransformer\n",
    "from sklearn.preprocessing import OneHotEncoder\n",
    "\n",
    "# NLTK Imports and Downloads\n",
    "import nltk\n",
    "from nltk.stem import PorterStemmer\n",
    "from nltk.stem.wordnet import WordNetLemmatizer\n",
    "\n",
    "from imblearn.over_sampling import SMOTE\n",
    "from imblearn.under_sampling import RandomUnderSampler\n",
    "from imblearn.pipeline import Pipeline\n",
    "\n",
    "import seaborn as sns\n",
    "import matplotlib.pyplot as plt\n",
    "%matplotlib inline"
   ]
  },
  {
   "cell_type": "code",
   "execution_count": 2,
   "id": "60163c3d",
   "metadata": {},
   "outputs": [],
   "source": [
    "df = pd.read_csv('yelp.csv')"
   ]
  },
  {
   "cell_type": "markdown",
   "id": "740f9e5c",
   "metadata": {},
   "source": [
    "## Data Prep"
   ]
  },
  {
   "cell_type": "code",
   "execution_count": 3,
   "id": "4dd14385",
   "metadata": {},
   "outputs": [
    {
     "data": {
      "text/html": [
       "<div>\n",
       "<style scoped>\n",
       "    .dataframe tbody tr th:only-of-type {\n",
       "        vertical-align: middle;\n",
       "    }\n",
       "\n",
       "    .dataframe tbody tr th {\n",
       "        vertical-align: top;\n",
       "    }\n",
       "\n",
       "    .dataframe thead th {\n",
       "        text-align: right;\n",
       "    }\n",
       "</style>\n",
       "<table border=\"1\" class=\"dataframe\">\n",
       "  <thead>\n",
       "    <tr style=\"text-align: right;\">\n",
       "      <th></th>\n",
       "      <th>Unnamed: 0</th>\n",
       "      <th>business_id</th>\n",
       "      <th>name</th>\n",
       "      <th>address</th>\n",
       "      <th>city</th>\n",
       "      <th>state</th>\n",
       "      <th>postal_code</th>\n",
       "      <th>latitude</th>\n",
       "      <th>longitude</th>\n",
       "      <th>stars_x</th>\n",
       "      <th>...</th>\n",
       "      <th>categories</th>\n",
       "      <th>hours</th>\n",
       "      <th>review_id</th>\n",
       "      <th>user_id</th>\n",
       "      <th>stars_y</th>\n",
       "      <th>useful</th>\n",
       "      <th>funny</th>\n",
       "      <th>cool</th>\n",
       "      <th>text</th>\n",
       "      <th>date</th>\n",
       "    </tr>\n",
       "  </thead>\n",
       "  <tbody>\n",
       "    <tr>\n",
       "      <th>0</th>\n",
       "      <td>0</td>\n",
       "      <td>6iYb2HFDywm3zjuRg0shjw</td>\n",
       "      <td>Oskar Blues Taproom</td>\n",
       "      <td>921 Pearl St</td>\n",
       "      <td>Boulder</td>\n",
       "      <td>CO</td>\n",
       "      <td>80302</td>\n",
       "      <td>40.017544</td>\n",
       "      <td>-105.283348</td>\n",
       "      <td>4.0</td>\n",
       "      <td>...</td>\n",
       "      <td>Gastropubs, Food, Beer Gardens, Restaurants, B...</td>\n",
       "      <td>{'Monday': '11:0-23:0', 'Tuesday': '11:0-23:0'...</td>\n",
       "      <td>bkHUOCicGZ856vpvcWuW7Q</td>\n",
       "      <td>93z0yh-sUpGZS-cSKu6xxA</td>\n",
       "      <td>5.0</td>\n",
       "      <td>1</td>\n",
       "      <td>0</td>\n",
       "      <td>0</td>\n",
       "      <td>Stopped in on a busy Friday night. Despite the...</td>\n",
       "      <td>2018-03-04 00:59:21</td>\n",
       "    </tr>\n",
       "    <tr>\n",
       "      <th>1</th>\n",
       "      <td>1</td>\n",
       "      <td>6iYb2HFDywm3zjuRg0shjw</td>\n",
       "      <td>Oskar Blues Taproom</td>\n",
       "      <td>921 Pearl St</td>\n",
       "      <td>Boulder</td>\n",
       "      <td>CO</td>\n",
       "      <td>80302</td>\n",
       "      <td>40.017544</td>\n",
       "      <td>-105.283348</td>\n",
       "      <td>4.0</td>\n",
       "      <td>...</td>\n",
       "      <td>Gastropubs, Food, Beer Gardens, Restaurants, B...</td>\n",
       "      <td>{'Monday': '11:0-23:0', 'Tuesday': '11:0-23:0'...</td>\n",
       "      <td>VKBc48PPwyWIUE1RhBT_8A</td>\n",
       "      <td>Q_CZIvnsDHjpls-EPzzG7Q</td>\n",
       "      <td>2.0</td>\n",
       "      <td>0</td>\n",
       "      <td>0</td>\n",
       "      <td>0</td>\n",
       "      <td>Went there about 1 PM on a Monday.  It wasn't ...</td>\n",
       "      <td>2018-08-14 05:22:00</td>\n",
       "    </tr>\n",
       "    <tr>\n",
       "      <th>2</th>\n",
       "      <td>2</td>\n",
       "      <td>6iYb2HFDywm3zjuRg0shjw</td>\n",
       "      <td>Oskar Blues Taproom</td>\n",
       "      <td>921 Pearl St</td>\n",
       "      <td>Boulder</td>\n",
       "      <td>CO</td>\n",
       "      <td>80302</td>\n",
       "      <td>40.017544</td>\n",
       "      <td>-105.283348</td>\n",
       "      <td>4.0</td>\n",
       "      <td>...</td>\n",
       "      <td>Gastropubs, Food, Beer Gardens, Restaurants, B...</td>\n",
       "      <td>{'Monday': '11:0-23:0', 'Tuesday': '11:0-23:0'...</td>\n",
       "      <td>JKNv1l7JgayZjG6nK__hXQ</td>\n",
       "      <td>rqxTSFFj5fZNmabY1fmTlw</td>\n",
       "      <td>5.0</td>\n",
       "      <td>0</td>\n",
       "      <td>0</td>\n",
       "      <td>0</td>\n",
       "      <td>This was the place the be on Friday Night! If ...</td>\n",
       "      <td>2018-03-17 14:22:48</td>\n",
       "    </tr>\n",
       "    <tr>\n",
       "      <th>3</th>\n",
       "      <td>3</td>\n",
       "      <td>6iYb2HFDywm3zjuRg0shjw</td>\n",
       "      <td>Oskar Blues Taproom</td>\n",
       "      <td>921 Pearl St</td>\n",
       "      <td>Boulder</td>\n",
       "      <td>CO</td>\n",
       "      <td>80302</td>\n",
       "      <td>40.017544</td>\n",
       "      <td>-105.283348</td>\n",
       "      <td>4.0</td>\n",
       "      <td>...</td>\n",
       "      <td>Gastropubs, Food, Beer Gardens, Restaurants, B...</td>\n",
       "      <td>{'Monday': '11:0-23:0', 'Tuesday': '11:0-23:0'...</td>\n",
       "      <td>WNM_Oyzy6mB6n0Z9lcuZyQ</td>\n",
       "      <td>vNPxlt5f50q0e2nVAScW3Q</td>\n",
       "      <td>4.0</td>\n",
       "      <td>0</td>\n",
       "      <td>0</td>\n",
       "      <td>0</td>\n",
       "      <td>Went to this place with my family over the wee...</td>\n",
       "      <td>2018-04-04 21:16:50</td>\n",
       "    </tr>\n",
       "    <tr>\n",
       "      <th>4</th>\n",
       "      <td>4</td>\n",
       "      <td>6iYb2HFDywm3zjuRg0shjw</td>\n",
       "      <td>Oskar Blues Taproom</td>\n",
       "      <td>921 Pearl St</td>\n",
       "      <td>Boulder</td>\n",
       "      <td>CO</td>\n",
       "      <td>80302</td>\n",
       "      <td>40.017544</td>\n",
       "      <td>-105.283348</td>\n",
       "      <td>4.0</td>\n",
       "      <td>...</td>\n",
       "      <td>Gastropubs, Food, Beer Gardens, Restaurants, B...</td>\n",
       "      <td>{'Monday': '11:0-23:0', 'Tuesday': '11:0-23:0'...</td>\n",
       "      <td>jG4gZz5FrHyItJXz1YV9Sw</td>\n",
       "      <td>eXRC79iX60xwA1UuGRuWNg</td>\n",
       "      <td>4.0</td>\n",
       "      <td>0</td>\n",
       "      <td>0</td>\n",
       "      <td>0</td>\n",
       "      <td>Stopped on a midweek afternoon, and so glad th...</td>\n",
       "      <td>2018-04-28 19:17:04</td>\n",
       "    </tr>\n",
       "  </tbody>\n",
       "</table>\n",
       "<p>5 rows × 23 columns</p>\n",
       "</div>"
      ],
      "text/plain": [
       "   Unnamed: 0             business_id                 name       address  \\\n",
       "0           0  6iYb2HFDywm3zjuRg0shjw  Oskar Blues Taproom  921 Pearl St   \n",
       "1           1  6iYb2HFDywm3zjuRg0shjw  Oskar Blues Taproom  921 Pearl St   \n",
       "2           2  6iYb2HFDywm3zjuRg0shjw  Oskar Blues Taproom  921 Pearl St   \n",
       "3           3  6iYb2HFDywm3zjuRg0shjw  Oskar Blues Taproom  921 Pearl St   \n",
       "4           4  6iYb2HFDywm3zjuRg0shjw  Oskar Blues Taproom  921 Pearl St   \n",
       "\n",
       "      city state postal_code   latitude   longitude  stars_x  ...  \\\n",
       "0  Boulder    CO       80302  40.017544 -105.283348      4.0  ...   \n",
       "1  Boulder    CO       80302  40.017544 -105.283348      4.0  ...   \n",
       "2  Boulder    CO       80302  40.017544 -105.283348      4.0  ...   \n",
       "3  Boulder    CO       80302  40.017544 -105.283348      4.0  ...   \n",
       "4  Boulder    CO       80302  40.017544 -105.283348      4.0  ...   \n",
       "\n",
       "                                          categories  \\\n",
       "0  Gastropubs, Food, Beer Gardens, Restaurants, B...   \n",
       "1  Gastropubs, Food, Beer Gardens, Restaurants, B...   \n",
       "2  Gastropubs, Food, Beer Gardens, Restaurants, B...   \n",
       "3  Gastropubs, Food, Beer Gardens, Restaurants, B...   \n",
       "4  Gastropubs, Food, Beer Gardens, Restaurants, B...   \n",
       "\n",
       "                                               hours               review_id  \\\n",
       "0  {'Monday': '11:0-23:0', 'Tuesday': '11:0-23:0'...  bkHUOCicGZ856vpvcWuW7Q   \n",
       "1  {'Monday': '11:0-23:0', 'Tuesday': '11:0-23:0'...  VKBc48PPwyWIUE1RhBT_8A   \n",
       "2  {'Monday': '11:0-23:0', 'Tuesday': '11:0-23:0'...  JKNv1l7JgayZjG6nK__hXQ   \n",
       "3  {'Monday': '11:0-23:0', 'Tuesday': '11:0-23:0'...  WNM_Oyzy6mB6n0Z9lcuZyQ   \n",
       "4  {'Monday': '11:0-23:0', 'Tuesday': '11:0-23:0'...  jG4gZz5FrHyItJXz1YV9Sw   \n",
       "\n",
       "                  user_id stars_y useful funny  cool  \\\n",
       "0  93z0yh-sUpGZS-cSKu6xxA     5.0      1     0     0   \n",
       "1  Q_CZIvnsDHjpls-EPzzG7Q     2.0      0     0     0   \n",
       "2  rqxTSFFj5fZNmabY1fmTlw     5.0      0     0     0   \n",
       "3  vNPxlt5f50q0e2nVAScW3Q     4.0      0     0     0   \n",
       "4  eXRC79iX60xwA1UuGRuWNg     4.0      0     0     0   \n",
       "\n",
       "                                                text                 date  \n",
       "0  Stopped in on a busy Friday night. Despite the...  2018-03-04 00:59:21  \n",
       "1  Went there about 1 PM on a Monday.  It wasn't ...  2018-08-14 05:22:00  \n",
       "2  This was the place the be on Friday Night! If ...  2018-03-17 14:22:48  \n",
       "3  Went to this place with my family over the wee...  2018-04-04 21:16:50  \n",
       "4  Stopped on a midweek afternoon, and so glad th...  2018-04-28 19:17:04  \n",
       "\n",
       "[5 rows x 23 columns]"
      ]
     },
     "execution_count": 3,
     "metadata": {},
     "output_type": "execute_result"
    }
   ],
   "source": [
    "df.head()"
   ]
  },
  {
   "cell_type": "code",
   "execution_count": 4,
   "id": "1d7b4be7",
   "metadata": {},
   "outputs": [
    {
     "data": {
      "text/plain": [
       "(100000, 23)"
      ]
     },
     "execution_count": 4,
     "metadata": {},
     "output_type": "execute_result"
    }
   ],
   "source": [
    "df.shape"
   ]
  },
  {
   "cell_type": "markdown",
   "id": "334910bc",
   "metadata": {},
   "source": [
    "### Null Values\n",
    "\n",
    "Nulll values are generally not desireable in a dataset.  In certain cases, observations (rows) with low counts will simply be dropped, in other cases, they can be filled with other values."
   ]
  },
  {
   "cell_type": "code",
   "execution_count": 5,
   "id": "8c7026a0",
   "metadata": {},
   "outputs": [],
   "source": [
    "# Drop NULL values\n",
    "df.dropna(inplace=True)"
   ]
  },
  {
   "cell_type": "code",
   "execution_count": 6,
   "id": "b2a2a202",
   "metadata": {},
   "outputs": [],
   "source": [
    "# Drop unwanted columns\n",
    "df.drop(columns=['Unnamed: 0', 'longitude', 'latitude'], inplace=True)"
   ]
  },
  {
   "cell_type": "code",
   "execution_count": 7,
   "id": "81b353e2",
   "metadata": {},
   "outputs": [],
   "source": [
    "df['date'] =  pd.to_datetime(df['date'])"
   ]
  },
  {
   "cell_type": "code",
   "execution_count": 8,
   "id": "a5a510a8",
   "metadata": {},
   "outputs": [],
   "source": [
    "# Add column 'text_len' that counts the length for the derived field\n",
    "df['text_len'] = df.apply(lambda row: len(row['text']), axis = 1)"
   ]
  },
  {
   "cell_type": "code",
   "execution_count": 9,
   "id": "452891b5",
   "metadata": {},
   "outputs": [],
   "source": [
    "# add a column for positive or negative\n",
    "df['target'] = df['stars_y'].apply(lambda c: 0 if c < 4 else 1)"
   ]
  },
  {
   "cell_type": "markdown",
   "id": "9d2c20eb",
   "metadata": {},
   "source": [
    "### Duplicates\n",
    "\n",
    "A common practice is to review any duplicates.  If there are large quantities, they can skew the results."
   ]
  },
  {
   "cell_type": "code",
   "execution_count": 10,
   "id": "bf976cbf",
   "metadata": {},
   "outputs": [
    {
     "name": "stdout",
     "output_type": "stream",
     "text": [
      "Before = 90652\n",
      "After = 90652\n",
      "\n",
      "Total Removed = 0\n"
     ]
    }
   ],
   "source": [
    "len_before = df.shape[0]\n",
    "df.drop_duplicates(inplace=True)\n",
    "len_after = df.shape[0]\n",
    "\n",
    "print(\"Before =\", len_before)\n",
    "# drop duplicates\n",
    "print(\"After =\", len_after)\n",
    "print('')\n",
    "print(\"Total Removed =\", len_before - len_after)"
   ]
  },
  {
   "cell_type": "code",
   "execution_count": 11,
   "id": "79284ea7",
   "metadata": {},
   "outputs": [
    {
     "name": "stdout",
     "output_type": "stream",
     "text": [
      "<class 'pandas.core.frame.DataFrame'>\n",
      "Int64Index: 90652 entries, 0 to 99999\n",
      "Data columns (total 22 columns):\n",
      " #   Column        Non-Null Count  Dtype         \n",
      "---  ------        --------------  -----         \n",
      " 0   business_id   90652 non-null  object        \n",
      " 1   name          90652 non-null  object        \n",
      " 2   address       90652 non-null  object        \n",
      " 3   city          90652 non-null  object        \n",
      " 4   state         90652 non-null  object        \n",
      " 5   postal_code   90652 non-null  object        \n",
      " 6   stars_x       90652 non-null  float64       \n",
      " 7   review_count  90652 non-null  int64         \n",
      " 8   is_open       90652 non-null  int64         \n",
      " 9   attributes    90652 non-null  object        \n",
      " 10  categories    90652 non-null  object        \n",
      " 11  hours         90652 non-null  object        \n",
      " 12  review_id     90652 non-null  object        \n",
      " 13  user_id       90652 non-null  object        \n",
      " 14  stars_y       90652 non-null  float64       \n",
      " 15  useful        90652 non-null  int64         \n",
      " 16  funny         90652 non-null  int64         \n",
      " 17  cool          90652 non-null  int64         \n",
      " 18  text          90652 non-null  object        \n",
      " 19  date          90652 non-null  datetime64[ns]\n",
      " 20  text_len      90652 non-null  int64         \n",
      " 21  target        90652 non-null  int64         \n",
      "dtypes: datetime64[ns](1), float64(2), int64(7), object(12)\n",
      "memory usage: 15.9+ MB\n"
     ]
    }
   ],
   "source": [
    "df.info()"
   ]
  },
  {
   "cell_type": "code",
   "execution_count": 12,
   "id": "31430827",
   "metadata": {},
   "outputs": [
    {
     "name": "stdout",
     "output_type": "stream",
     "text": [
      "90652\n",
      "90649\n"
     ]
    }
   ],
   "source": [
    "print(len(df))\n",
    "df = df[df['state'] != 'KS'].copy()\n",
    "print(len(df))"
   ]
  },
  {
   "cell_type": "markdown",
   "id": "5a9174a1",
   "metadata": {},
   "source": [
    "## EDA"
   ]
  },
  {
   "cell_type": "code",
   "execution_count": 13,
   "id": "5ad223fa",
   "metadata": {},
   "outputs": [
    {
     "data": {
      "text/html": [
       "<div>\n",
       "<style scoped>\n",
       "    .dataframe tbody tr th:only-of-type {\n",
       "        vertical-align: middle;\n",
       "    }\n",
       "\n",
       "    .dataframe tbody tr th {\n",
       "        vertical-align: top;\n",
       "    }\n",
       "\n",
       "    .dataframe thead th {\n",
       "        text-align: right;\n",
       "    }\n",
       "</style>\n",
       "<table border=\"1\" class=\"dataframe\">\n",
       "  <thead>\n",
       "    <tr style=\"text-align: right;\">\n",
       "      <th></th>\n",
       "      <th>stars_x</th>\n",
       "      <th>review_count</th>\n",
       "      <th>is_open</th>\n",
       "      <th>stars_y</th>\n",
       "      <th>useful</th>\n",
       "      <th>funny</th>\n",
       "      <th>cool</th>\n",
       "      <th>text_len</th>\n",
       "      <th>target</th>\n",
       "    </tr>\n",
       "  </thead>\n",
       "  <tbody>\n",
       "    <tr>\n",
       "      <th>count</th>\n",
       "      <td>90649.000000</td>\n",
       "      <td>90649.000000</td>\n",
       "      <td>90649.000000</td>\n",
       "      <td>90649.000000</td>\n",
       "      <td>90649.000000</td>\n",
       "      <td>90649.000000</td>\n",
       "      <td>90649.000000</td>\n",
       "      <td>90649.000000</td>\n",
       "      <td>90649.000000</td>\n",
       "    </tr>\n",
       "    <tr>\n",
       "      <th>mean</th>\n",
       "      <td>3.749611</td>\n",
       "      <td>424.967578</td>\n",
       "      <td>0.789319</td>\n",
       "      <td>3.802215</td>\n",
       "      <td>0.958190</td>\n",
       "      <td>0.326953</td>\n",
       "      <td>0.368454</td>\n",
       "      <td>576.716235</td>\n",
       "      <td>0.683802</td>\n",
       "    </tr>\n",
       "    <tr>\n",
       "      <th>std</th>\n",
       "      <td>0.639393</td>\n",
       "      <td>669.496044</td>\n",
       "      <td>0.407794</td>\n",
       "      <td>1.356062</td>\n",
       "      <td>2.103044</td>\n",
       "      <td>1.188864</td>\n",
       "      <td>1.193615</td>\n",
       "      <td>526.057956</td>\n",
       "      <td>0.464994</td>\n",
       "    </tr>\n",
       "    <tr>\n",
       "      <th>min</th>\n",
       "      <td>1.000000</td>\n",
       "      <td>5.000000</td>\n",
       "      <td>0.000000</td>\n",
       "      <td>1.000000</td>\n",
       "      <td>0.000000</td>\n",
       "      <td>0.000000</td>\n",
       "      <td>0.000000</td>\n",
       "      <td>5.000000</td>\n",
       "      <td>0.000000</td>\n",
       "    </tr>\n",
       "    <tr>\n",
       "      <th>25%</th>\n",
       "      <td>3.500000</td>\n",
       "      <td>79.000000</td>\n",
       "      <td>1.000000</td>\n",
       "      <td>3.000000</td>\n",
       "      <td>0.000000</td>\n",
       "      <td>0.000000</td>\n",
       "      <td>0.000000</td>\n",
       "      <td>236.000000</td>\n",
       "      <td>0.000000</td>\n",
       "    </tr>\n",
       "    <tr>\n",
       "      <th>50%</th>\n",
       "      <td>4.000000</td>\n",
       "      <td>214.000000</td>\n",
       "      <td>1.000000</td>\n",
       "      <td>4.000000</td>\n",
       "      <td>0.000000</td>\n",
       "      <td>0.000000</td>\n",
       "      <td>0.000000</td>\n",
       "      <td>416.000000</td>\n",
       "      <td>1.000000</td>\n",
       "    </tr>\n",
       "    <tr>\n",
       "      <th>75%</th>\n",
       "      <td>4.000000</td>\n",
       "      <td>477.000000</td>\n",
       "      <td>1.000000</td>\n",
       "      <td>5.000000</td>\n",
       "      <td>1.000000</td>\n",
       "      <td>0.000000</td>\n",
       "      <td>0.000000</td>\n",
       "      <td>733.000000</td>\n",
       "      <td>1.000000</td>\n",
       "    </tr>\n",
       "    <tr>\n",
       "      <th>max</th>\n",
       "      <td>5.000000</td>\n",
       "      <td>4708.000000</td>\n",
       "      <td>1.000000</td>\n",
       "      <td>5.000000</td>\n",
       "      <td>128.000000</td>\n",
       "      <td>39.000000</td>\n",
       "      <td>47.000000</td>\n",
       "      <td>5000.000000</td>\n",
       "      <td>1.000000</td>\n",
       "    </tr>\n",
       "  </tbody>\n",
       "</table>\n",
       "</div>"
      ],
      "text/plain": [
       "            stars_x  review_count       is_open       stars_y        useful  \\\n",
       "count  90649.000000  90649.000000  90649.000000  90649.000000  90649.000000   \n",
       "mean       3.749611    424.967578      0.789319      3.802215      0.958190   \n",
       "std        0.639393    669.496044      0.407794      1.356062      2.103044   \n",
       "min        1.000000      5.000000      0.000000      1.000000      0.000000   \n",
       "25%        3.500000     79.000000      1.000000      3.000000      0.000000   \n",
       "50%        4.000000    214.000000      1.000000      4.000000      0.000000   \n",
       "75%        4.000000    477.000000      1.000000      5.000000      1.000000   \n",
       "max        5.000000   4708.000000      1.000000      5.000000    128.000000   \n",
       "\n",
       "              funny          cool      text_len        target  \n",
       "count  90649.000000  90649.000000  90649.000000  90649.000000  \n",
       "mean       0.326953      0.368454    576.716235      0.683802  \n",
       "std        1.188864      1.193615    526.057956      0.464994  \n",
       "min        0.000000      0.000000      5.000000      0.000000  \n",
       "25%        0.000000      0.000000    236.000000      0.000000  \n",
       "50%        0.000000      0.000000    416.000000      1.000000  \n",
       "75%        0.000000      0.000000    733.000000      1.000000  \n",
       "max       39.000000     47.000000   5000.000000      1.000000  "
      ]
     },
     "execution_count": 13,
     "metadata": {},
     "output_type": "execute_result"
    }
   ],
   "source": [
    "df.describe()"
   ]
  },
  {
   "cell_type": "code",
   "execution_count": 14,
   "id": "8213ea72",
   "metadata": {},
   "outputs": [
    {
     "data": {
      "image/png": "[encoded data removed]",
      "text/plain": [
       "<Figure size 864x576 with 2 Axes>"
      ]
     },
     "metadata": {
      "needs_background": "light"
     },
     "output_type": "display_data"
    }
   ],
   "source": [
    "corr = df.corr()\n",
    "\n",
    "f, ax = plt.subplots(figsize=(12, 8))\n",
    "\n",
    "sns.heatmap(corr, cmap=\"Blues\", annot=True, square=False, ax=ax,  linewidth = 1)\n",
    "plt.title('Pearson Correlation of Features')\n",
    "plt.yticks(rotation=45);"
   ]
  },
  {
   "cell_type": "markdown",
   "id": "62392d4c-a914-436a-a488-57c4b8e246f7",
   "metadata": {},
   "source": [
    "**Observations:**  \n",
    "There are a few variables that are correlated to each other.  \n",
    " - `target` was created from `stars_y` and therefore shows a high positive correlation\n",
    " - `cool`, `useful` and `funny` are slightly correlated to each other.  This probably means that users to vote with one item, vote with others. \n",
    " - `stars_y` and `stars_x`also show some correlation.  This makes sense because `stars_x` is the mean of all `stars_y` ratings."
   ]
  },
  {
   "cell_type": "markdown",
   "id": "3d61f23e",
   "metadata": {},
   "source": [
    "## Text Cleaning\n",
    "\n",
    "For **Parts** of our analysis, the text needs to have some basic transformation for our models to work properly.  These are as follows:\n",
    "\n",
    "1. **Lower**: Convert all characters to lowercase\n",
    "1. **Remove Punctuation**: In most cases, punctuation doesn't help NLP and ML models and can be removed.\n",
    "1. **Stop Word Removal**: Stop words generally don't add context to analysis (unless the length of the text is very short (`100` - `200` characters) and can be removed.\n",
    "1. **Lemmatization**: Words will be reduced to their *Lemma* or root.  This will greatly improve the accuracy of the analysis since words like `swimming` and `swimmer` will be reduced to `swim`.\n",
    "\n",
    "**Note**: The original text will be preserved for other analysis."
   ]
  },
  {
   "cell_type": "code",
   "execution_count": 15,
   "id": "6b473db1",
   "metadata": {},
   "outputs": [
    {
     "data": {
      "text/plain": [
       "\"Stopped in on a busy Friday night. Despite the crowd, the service was expedient and warm. \\n\\nThe beers here speak for themselves, so we sampled some of their taproom only offerings, and the galaxy smash was clean, tropical and sessionable.\\n\\nThis being said, the real star of this place is the pizza. It's a hand tossed style crust, that's the perfect mix of crispy and doughy. We ordered the special pizza (luau- bacon, pineapple and fresh jalapeño), and it was the perfect mix of fat, sweetness and heat. \\n\\nIf you're looking for a comfortable spot to grab a beer, and share some food with some friends on pearl, this is the place!\""
      ]
     },
     "execution_count": 15,
     "metadata": {},
     "output_type": "execute_result"
    }
   ],
   "source": [
    "df['text'][0]"
   ]
  },
  {
   "cell_type": "code",
   "execution_count": 16,
   "id": "01fb5bca",
   "metadata": {},
   "outputs": [],
   "source": [
    "def clean_string(text, stem=\"None\"):\n",
    "    \n",
    "    final_string = \"\"\n",
    "    \n",
    "    # Make lower\n",
    "    text = text.lower()\n",
    "    \n",
    "    translator = str.maketrans('', '', string.punctuation)\n",
    "    text = text.translate(translator)\n",
    "\n",
    "    text = text.split()\n",
    "    useless_words = nltk.corpus.stopwords.words(\"english\") + list(string.punctuation)\n",
    "    useless_words = useless_words + ['.', ',', '!', \"'\"]\n",
    "    \n",
    "    # Remove stop words\n",
    "    text_filtered = [word for word in text if not word in useless_words]\n",
    "    \n",
    "    # Remove numbers\n",
    "    text_filtered = [re.sub('\\w*\\d\\w*', '', w) for w in text_filtered]\n",
    "    \n",
    "    # Stem or Lemmatize\n",
    "    if stem == 'Stem':\n",
    "        stemmer = PorterStemmer() \n",
    "        text_stemmed = [stemmer.stem(y) for y in text_filtered]\n",
    "    elif stem == 'Lem':\n",
    "        lem = WordNetLemmatizer()\n",
    "        text_stemmed = [lem.lemmatize(y) for y in text_filtered]\n",
    "    else:\n",
    "        text_stemmed = text_filtered\n",
    "    \n",
    "    for word in text_stemmed:\n",
    "        final_string += word + \" \"\n",
    "    \n",
    "    return final_string"
   ]
  },
  {
   "cell_type": "code",
   "execution_count": 17,
   "id": "9d944195",
   "metadata": {},
   "outputs": [],
   "source": [
    "df['text_clean'] = df['text'].apply(lambda x: clean_string(x, stem='Stem'))"
   ]
  },
  {
   "cell_type": "code",
   "execution_count": 18,
   "id": "79953ae5",
   "metadata": {},
   "outputs": [
    {
     "data": {
      "text/plain": [
       "'stop busi friday night despit crowd servic expedi warm beer speak sampl taproom offer galaxi smash clean tropic session said real star place pizza hand toss style crust that perfect mix crispi doughi order special pizza luau bacon pineappl fresh jalapeño perfect mix fat sweet heat your look comfort spot grab beer share food friend pearl place '"
      ]
     },
     "execution_count": 18,
     "metadata": {},
     "output_type": "execute_result"
    }
   ],
   "source": [
    "df['text_clean'][0]"
   ]
  },
  {
   "cell_type": "markdown",
   "id": "31feeb6c",
   "metadata": {},
   "source": [
    "# FEATURE SELECTION/ MODELING \n",
    "\n",
    ">*In machine learning and statistics, feature selection, also known as variable selection, attribute selection or variable subset selection, is the process of selecting a subset of relevant features (variables, predictors) for use in model construction. Feature selection techniques are used for several reasons[11]:*\n",
    "\n",
    ">- *simplification of models to make them easier to interpret by researchers/users,*\n",
    ">- *shorter training times,*\n",
    ">- *to avoid the curse of dimensionality,*\n",
    ">- *enhanced generalization by reducing overfitting*"
   ]
  },
  {
   "cell_type": "code",
   "execution_count": 19,
   "id": "e48e0804",
   "metadata": {},
   "outputs": [],
   "source": [
    "targets = ['categories', 'city', 'state', 'postal_code', 'is_open', 'text_len', 'useful', 'cool', 'funny', 'review_count']"
   ]
  },
  {
   "cell_type": "code",
   "execution_count": 20,
   "id": "f0c3fb84",
   "metadata": {},
   "outputs": [],
   "source": [
    "catFeat = df[targets].copy()"
   ]
  },
  {
   "cell_type": "code",
   "execution_count": 21,
   "id": "8b7470bc",
   "metadata": {},
   "outputs": [
    {
     "data": {
      "text/html": [
       "<div>\n",
       "<style scoped>\n",
       "    .dataframe tbody tr th:only-of-type {\n",
       "        vertical-align: middle;\n",
       "    }\n",
       "\n",
       "    .dataframe tbody tr th {\n",
       "        vertical-align: top;\n",
       "    }\n",
       "\n",
       "    .dataframe thead th {\n",
       "        text-align: right;\n",
       "    }\n",
       "</style>\n",
       "<table border=\"1\" class=\"dataframe\">\n",
       "  <thead>\n",
       "    <tr style=\"text-align: right;\">\n",
       "      <th></th>\n",
       "      <th>categories</th>\n",
       "      <th>city</th>\n",
       "      <th>state</th>\n",
       "      <th>postal_code</th>\n",
       "      <th>is_open</th>\n",
       "      <th>text_len</th>\n",
       "      <th>useful</th>\n",
       "      <th>cool</th>\n",
       "      <th>funny</th>\n",
       "      <th>review_count</th>\n",
       "    </tr>\n",
       "  </thead>\n",
       "  <tbody>\n",
       "    <tr>\n",
       "      <th>0</th>\n",
       "      <td>2803</td>\n",
       "      <td>24</td>\n",
       "      <td>1</td>\n",
       "      <td>385</td>\n",
       "      <td>1</td>\n",
       "      <td>630</td>\n",
       "      <td>1</td>\n",
       "      <td>0</td>\n",
       "      <td>0</td>\n",
       "      <td>86</td>\n",
       "    </tr>\n",
       "    <tr>\n",
       "      <th>1</th>\n",
       "      <td>2803</td>\n",
       "      <td>24</td>\n",
       "      <td>1</td>\n",
       "      <td>385</td>\n",
       "      <td>1</td>\n",
       "      <td>885</td>\n",
       "      <td>0</td>\n",
       "      <td>0</td>\n",
       "      <td>0</td>\n",
       "      <td>86</td>\n",
       "    </tr>\n",
       "    <tr>\n",
       "      <th>2</th>\n",
       "      <td>2803</td>\n",
       "      <td>24</td>\n",
       "      <td>1</td>\n",
       "      <td>385</td>\n",
       "      <td>1</td>\n",
       "      <td>174</td>\n",
       "      <td>0</td>\n",
       "      <td>0</td>\n",
       "      <td>0</td>\n",
       "      <td>86</td>\n",
       "    </tr>\n",
       "    <tr>\n",
       "      <th>3</th>\n",
       "      <td>2803</td>\n",
       "      <td>24</td>\n",
       "      <td>1</td>\n",
       "      <td>385</td>\n",
       "      <td>1</td>\n",
       "      <td>553</td>\n",
       "      <td>0</td>\n",
       "      <td>0</td>\n",
       "      <td>0</td>\n",
       "      <td>86</td>\n",
       "    </tr>\n",
       "    <tr>\n",
       "      <th>4</th>\n",
       "      <td>2803</td>\n",
       "      <td>24</td>\n",
       "      <td>1</td>\n",
       "      <td>385</td>\n",
       "      <td>1</td>\n",
       "      <td>841</td>\n",
       "      <td>0</td>\n",
       "      <td>0</td>\n",
       "      <td>0</td>\n",
       "      <td>86</td>\n",
       "    </tr>\n",
       "  </tbody>\n",
       "</table>\n",
       "</div>"
      ],
      "text/plain": [
       "   categories  city  state  postal_code  is_open  text_len  useful  cool  \\\n",
       "0        2803    24      1          385        1       630       1     0   \n",
       "1        2803    24      1          385        1       885       0     0   \n",
       "2        2803    24      1          385        1       174       0     0   \n",
       "3        2803    24      1          385        1       553       0     0   \n",
       "4        2803    24      1          385        1       841       0     0   \n",
       "\n",
       "   funny  review_count  \n",
       "0      0            86  \n",
       "1      0            86  \n",
       "2      0            86  \n",
       "3      0            86  \n",
       "4      0            86  "
      ]
     },
     "execution_count": 21,
     "metadata": {},
     "output_type": "execute_result"
    }
   ],
   "source": [
    "from sklearn.preprocessing import LabelEncoder\n",
    "le = LabelEncoder()\n",
    "\n",
    "\n",
    "catFeat['categories'] = le.fit_transform(catFeat['categories'].astype(str))\n",
    "catFeat['city'] = le.fit_transform(catFeat['city'].astype(str))\n",
    "catFeat['state'] = le.fit_transform(catFeat['state'].astype(str))\n",
    "catFeat['postal_code'] = le.fit_transform(catFeat['postal_code'].astype(str))\n",
    "\n",
    "catFeat.head()"
   ]
  },
  {
   "cell_type": "code",
   "execution_count": 22,
   "id": "4299fe1f",
   "metadata": {},
   "outputs": [
    {
     "name": "stdout",
     "output_type": "stream",
     "text": [
      "('categories', 0.16426808197116635)\n",
      "('postal_code', 0.12921766618223368)\n",
      "('text_len', 0.34660326772466077)\n",
      "('review_count', 0.16382617229712215)\n",
      "\n",
      "Cumulative Importance of Selected Features:  0.8039151881751829\n"
     ]
    }
   ],
   "source": [
    "# Split the data into 30% test and 70% training\n",
    "X_train, X_test, y_train, y_test = train_test_split(catFeat, \n",
    "                                                    df['target'], \n",
    "                                                    test_size=0.3, random_state=0)\n",
    "\n",
    "# Create a random forest classifier for feature importance\n",
    "clf = RandomForestClassifier(random_state=42, n_jobs=6, class_weight='balanced')\n",
    "\n",
    "clf.fit(X_train, y_train)\n",
    "\n",
    "total_importance = 0\n",
    "# Print the name and gini importance of each feature\n",
    "for feature in zip(targets, clf.feature_importances_):\n",
    "    if feature[1] > .1:\n",
    "        print(feature)\n",
    "        total_importance += feature[1]\n",
    "        \n",
    "print('\\nCumulative Importance of Selected Features: ', total_importance)"
   ]
  },
  {
   "cell_type": "markdown",
   "id": "adac9a33",
   "metadata": {},
   "source": [
    "## Model Selection\n",
    "\n",
    "Many algorithms support binary classification.  We will use two and compare the results to select the best model.\n",
    "\n",
    " - **Random Forest Classifier**:  This classifier tends to be very robust.  It was used in the feature selection model above and will be tested against the features it selected.  Due to the nature of running many decision trees, it can take a while to compute larger datasets.\n",
    " > *A Random Forest classifier is an ensemble learning method for classification, regression, and other tasks that operates by constructing a multitude of decision trees at training time and outputting the class that is the mode of the classes (classification) or mean/average prediction (regression) of the individual trees [4].*\n",
    " - **Logistic Regression**: The logistic model is a fast and robust model that tends to run fairly quickly on all types of models.\n",
    " > *The logistic model (or logit model) is used to model the probability of a certain class or event existing, such as pass/fail, win/lose, alive/dead, or healthy/sick. This can be extended to model several classes of events, such as determining whether an image contains a cat, dog, or lion. Each object is detected in the image would be assigned a probability between 0 and 1, with a sum of one [5].*\n",
    "\n",
    "To create our model, we will be mixing both text and numeric values.  There are multiple ways to accomplish this, but we will be using a `ColumnTransformer` in a Pipeline.\n",
    "\n",
    "**Imbalanced Data**  \n",
    "The number of negative reviews is far less than the number of positive reviews. This is known as Imbalanced Data.  When you have imbalanced data, the model will tend to bias to the value with more observations (positive).  To correct this, we can run a process known as SMOTE.  This process uses a nearest-neighbor approach for generating new minority class samples.  The method is applied only to the training data and then tested on the original, untouched test partition.  The method chosen here is first to oversample the minority class making it balanced, and then undersample it to reduce the size.  This helps bring balance without bloating the dataset."
   ]
  },
  {
   "cell_type": "code",
   "execution_count": 23,
   "id": "9b4f99fd",
   "metadata": {},
   "outputs": [],
   "source": [
    "# To speed this up, let's just take a random subset of the data\n",
    "# df = df.sample(n=15000)"
   ]
  },
  {
   "cell_type": "code",
   "execution_count": 24,
   "id": "6db77f83",
   "metadata": {},
   "outputs": [],
   "source": [
    "X = df[['categories', 'postal_code', 'text_len', 'review_count', 'text_clean']]\n",
    "y = df['target']"
   ]
  },
  {
   "cell_type": "code",
   "execution_count": 25,
   "id": "b3b91b14",
   "metadata": {},
   "outputs": [
    {
     "name": "stdout",
     "output_type": "stream",
     "text": [
      "(90649, 5)\n",
      "(90649,)\n"
     ]
    }
   ],
   "source": [
    "print(X.shape)\n",
    "print(y.shape)"
   ]
  },
  {
   "cell_type": "code",
   "execution_count": 26,
   "id": "a3f00126",
   "metadata": {},
   "outputs": [],
   "source": [
    "def create_pipe(clf, ngrams=(1,1)):\n",
    "    \n",
    "    # Each pipeline uses the same column transformer.  \n",
    "    column_trans = ColumnTransformer(\n",
    "        [('Text', TfidfVectorizer(stop_words='english', ngram_range=ngrams), 'text_clean'),\n",
    "         ('Categories', TfidfVectorizer(), 'categories'), \n",
    "         ('OHE', OneHotEncoder(dtype='int', handle_unknown='ignore'),['postal_code']),\n",
    "         ('Numbers', MinMaxScaler(), ['review_count', 'text_len'])],\n",
    "        remainder='drop') \n",
    "    \n",
    "    pipeline = Pipeline([('prep',column_trans),\n",
    "                         ('over', SMOTE(random_state=42)),\n",
    "                         ('under', RandomUnderSampler(random_state=42)),\n",
    "                         ('clf', clf)])\n",
    "     \n",
    "    return pipeline"
   ]
  },
  {
   "cell_type": "code",
   "execution_count": 27,
   "id": "0353b778",
   "metadata": {},
   "outputs": [
    {
     "name": "stdout",
     "output_type": "stream",
     "text": [
      "RandForest : Mean f1 Macro: 0.785 and Standard Deviation: (0.003)\n",
      "LogReg : Mean f1 Macro: 0.854 and Standard Deviation: (0.001)\n"
     ]
    }
   ],
   "source": [
    "models = {'RandForest' : RandomForestClassifier(random_state=42, n_estimators=50),\n",
    "          'LogReg' : LogisticRegression(random_state=42, max_iter=1000)\n",
    "          }\n",
    "\n",
    "for name, model, in models.items():\n",
    "    clf = model\n",
    "    pipeline = create_pipe(clf)\n",
    "    scores = cross_val_score(pipeline, X, y, scoring='f1_macro', cv=3, n_jobs=1, error_score='raise')\n",
    "    print(name, ': Mean f1 Macro: %.3f and Standard Deviation: (%.3f)' % (np.mean(scores), np.std(scores)))"
   ]
  },
  {
   "cell_type": "markdown",
   "id": "cab5b9c9",
   "metadata": {},
   "source": [
    "## Hyper Parameter Tuning\n",
    "\n",
    "> *In machine learning, a hyperparameter is a parameter whose value is used to control the learning process. By contrast, the values of other parameters (typically node weights) are derived via training.*\n",
    "\n",
    "<br>\n",
    "\n",
    "> *Hyperparameters can be classified as model hyperparameters, that cannot be inferred while fitting the machine to the training set because they refer to the model selection task, or algorithm hyperparameters, that in principle have no influence on the performance of the model but affect the speed and quality of the learning process. An example of a model hyperparameter is the topology and size of a neural network. Examples of algorithm hyperparameters are learning rate and mini-batch size. [9]*"
   ]
  },
  {
   "cell_type": "code",
   "execution_count": 28,
   "id": "e75e83a5",
   "metadata": {},
   "outputs": [],
   "source": [
    "# Make training and test sets \n",
    "X_train, X_test, y_train, y_test = train_test_split(X, y, test_size=0.33, random_state=53)"
   ]
  },
  {
   "cell_type": "code",
   "execution_count": 29,
   "id": "5542f51c",
   "metadata": {},
   "outputs": [
    {
     "name": "stdout",
     "output_type": "stream",
     "text": [
      "(60734,)\n",
      "(60734, 5)\n"
     ]
    }
   ],
   "source": [
    "print(y_train.shape)\n",
    "print(X_train.shape)"
   ]
  },
  {
   "cell_type": "code",
   "execution_count": 30,
   "id": "25920511",
   "metadata": {},
   "outputs": [],
   "source": [
    "parameters = [{'clf__solver' : ['newton-cg', 'lbfgs', 'sag', 'liblinear'],\n",
    "               'clf__C' : [.1, 1, 10, 100],\n",
    "               'prep__Text__ngram_range': [(1, 1), (2, 2), (1, 2)]}]"
   ]
  },
  {
   "cell_type": "code",
   "execution_count": 31,
   "id": "0106211a",
   "metadata": {},
   "outputs": [],
   "source": [
    "clf = LogisticRegression(random_state=42, max_iter=500)\n",
    "pipeline = create_pipe(clf)"
   ]
  },
  {
   "cell_type": "code",
   "execution_count": 32,
   "id": "3759dba9",
   "metadata": {},
   "outputs": [
    {
     "data": {
      "text/plain": [
       "{'memory': None,\n",
       " 'steps': [('prep',\n",
       "   ColumnTransformer(transformers=[('Text', TfidfVectorizer(stop_words='english'),\n",
       "                                    'text_clean'),\n",
       "                                   ('Categories', TfidfVectorizer(), 'categories'),\n",
       "                                   ('OHE',\n",
       "                                    OneHotEncoder(dtype='int',\n",
       "                                                  handle_unknown='ignore'),\n",
       "                                    ['postal_code']),\n",
       "                                   ('Numbers', MinMaxScaler(),\n",
       "                                    ['review_count', 'text_len'])])),\n",
       "  ('over', SMOTE(random_state=42)),\n",
       "  ('under', RandomUnderSampler(random_state=42)),\n",
       "  ('clf', LogisticRegression(max_iter=500, random_state=42))],\n",
       " 'verbose': False,\n",
       " 'prep': ColumnTransformer(transformers=[('Text', TfidfVectorizer(stop_words='english'),\n",
       "                                  'text_clean'),\n",
       "                                 ('Categories', TfidfVectorizer(), 'categories'),\n",
       "                                 ('OHE',\n",
       "                                  OneHotEncoder(dtype='int',\n",
       "                                                handle_unknown='ignore'),\n",
       "                                  ['postal_code']),\n",
       "                                 ('Numbers', MinMaxScaler(),\n",
       "                                  ['review_count', 'text_len'])]),\n",
       " 'over': SMOTE(random_state=42),\n",
       " 'under': RandomUnderSampler(random_state=42),\n",
       " 'clf': LogisticRegression(max_iter=500, random_state=42),\n",
       " 'prep__n_jobs': None,\n",
       " 'prep__remainder': 'drop',\n",
       " 'prep__sparse_threshold': 0.3,\n",
       " 'prep__transformer_weights': None,\n",
       " 'prep__transformers': [('Text',\n",
       "   TfidfVectorizer(stop_words='english'),\n",
       "   'text_clean'),\n",
       "  ('Categories', TfidfVectorizer(), 'categories'),\n",
       "  ('OHE',\n",
       "   OneHotEncoder(dtype='int', handle_unknown='ignore'),\n",
       "   ['postal_code']),\n",
       "  ('Numbers', MinMaxScaler(), ['review_count', 'text_len'])],\n",
       " 'prep__verbose': False,\n",
       " 'prep__verbose_feature_names_out': True,\n",
       " 'prep__Text': TfidfVectorizer(stop_words='english'),\n",
       " 'prep__Categories': TfidfVectorizer(),\n",
       " 'prep__OHE': OneHotEncoder(dtype='int', handle_unknown='ignore'),\n",
       " 'prep__Numbers': MinMaxScaler(),\n",
       " 'prep__Text__analyzer': 'word',\n",
       " 'prep__Text__binary': False,\n",
       " 'prep__Text__decode_error': 'strict',\n",
       " 'prep__Text__dtype': numpy.float64,\n",
       " 'prep__Text__encoding': 'utf-8',\n",
       " 'prep__Text__input': 'content',\n",
       " 'prep__Text__lowercase': True,\n",
       " 'prep__Text__max_df': 1.0,\n",
       " 'prep__Text__max_features': None,\n",
       " 'prep__Text__min_df': 1,\n",
       " 'prep__Text__ngram_range': (1, 1),\n",
       " 'prep__Text__norm': 'l2',\n",
       " 'prep__Text__preprocessor': None,\n",
       " 'prep__Text__smooth_idf': True,\n",
       " 'prep__Text__stop_words': 'english',\n",
       " 'prep__Text__strip_accents': None,\n",
       " 'prep__Text__sublinear_tf': False,\n",
       " 'prep__Text__token_pattern': '(?u)\\\\b\\\\w\\\\w+\\\\b',\n",
       " 'prep__Text__tokenizer': None,\n",
       " 'prep__Text__use_idf': True,\n",
       " 'prep__Text__vocabulary': None,\n",
       " 'prep__Categories__analyzer': 'word',\n",
       " 'prep__Categories__binary': False,\n",
       " 'prep__Categories__decode_error': 'strict',\n",
       " 'prep__Categories__dtype': numpy.float64,\n",
       " 'prep__Categories__encoding': 'utf-8',\n",
       " 'prep__Categories__input': 'content',\n",
       " 'prep__Categories__lowercase': True,\n",
       " 'prep__Categories__max_df': 1.0,\n",
       " 'prep__Categories__max_features': None,\n",
       " 'prep__Categories__min_df': 1,\n",
       " 'prep__Categories__ngram_range': (1, 1),\n",
       " 'prep__Categories__norm': 'l2',\n",
       " 'prep__Categories__preprocessor': None,\n",
       " 'prep__Categories__smooth_idf': True,\n",
       " 'prep__Categories__stop_words': None,\n",
       " 'prep__Categories__strip_accents': None,\n",
       " 'prep__Categories__sublinear_tf': False,\n",
       " 'prep__Categories__token_pattern': '(?u)\\\\b\\\\w\\\\w+\\\\b',\n",
       " 'prep__Categories__tokenizer': None,\n",
       " 'prep__Categories__use_idf': True,\n",
       " 'prep__Categories__vocabulary': None,\n",
       " 'prep__OHE__categories': 'auto',\n",
       " 'prep__OHE__drop': None,\n",
       " 'prep__OHE__dtype': 'int',\n",
       " 'prep__OHE__handle_unknown': 'ignore',\n",
       " 'prep__OHE__sparse': True,\n",
       " 'prep__Numbers__clip': False,\n",
       " 'prep__Numbers__copy': True,\n",
       " 'prep__Numbers__feature_range': (0, 1),\n",
       " 'over__k_neighbors': 5,\n",
       " 'over__n_jobs': None,\n",
       " 'over__random_state': 42,\n",
       " 'over__sampling_strategy': 'auto',\n",
       " 'under__random_state': 42,\n",
       " 'under__replacement': False,\n",
       " 'under__sampling_strategy': 'auto',\n",
       " 'clf__C': 1.0,\n",
       " 'clf__class_weight': None,\n",
       " 'clf__dual': False,\n",
       " 'clf__fit_intercept': True,\n",
       " 'clf__intercept_scaling': 1,\n",
       " 'clf__l1_ratio': None,\n",
       " 'clf__max_iter': 500,\n",
       " 'clf__multi_class': 'auto',\n",
       " 'clf__n_jobs': None,\n",
       " 'clf__penalty': 'l2',\n",
       " 'clf__random_state': 42,\n",
       " 'clf__solver': 'lbfgs',\n",
       " 'clf__tol': 0.0001,\n",
       " 'clf__verbose': 0,\n",
       " 'clf__warm_start': False}"
      ]
     },
     "execution_count": 32,
     "metadata": {},
     "output_type": "execute_result"
    }
   ],
   "source": [
    "pipeline.get_params()"
   ]
  },
  {
   "cell_type": "code",
   "execution_count": 33,
   "id": "16183cd3",
   "metadata": {},
   "outputs": [
    {
     "name": "stdout",
     "output_type": "stream",
     "text": [
      "Best cross-validation accuracy: 0.867\n",
      "Test set score: 0.872\n",
      "Best parameters: {'clf__C': 100, 'clf__solver': 'newton-cg', 'prep__Text__ngram_range': (1, 2)}\n"
     ]
    }
   ],
   "source": [
    "grid = GridSearchCV(pipeline, \n",
    "                    parameters, \n",
    "                    scoring='f1_macro', \n",
    "                    cv=3, \n",
    "                    error_score='raise').fit(X_train, y_train)\n",
    "\n",
    "print(\"Best cross-validation accuracy: {:.3f}\".format(grid.best_score_))\n",
    "print(\"Test set score: {:.3f}\".format(grid.score(X_test, y_test))) \n",
    "print(\"Best parameters: {}\".format(grid.best_params_))\n",
    "\n",
    "log_C = grid.best_params_['clf__C']\n",
    "log_solver = grid.best_params_['clf__solver']\n",
    "log_ngram = grid.best_params_['prep__Text__ngram_range']"
   ]
  },
  {
   "cell_type": "markdown",
   "id": "475f76ae",
   "metadata": {},
   "source": [
    "129m\n",
    "\n",
    "Best cross-validation accuracy: 0.867\n",
    "Test set score: 0.872\n",
    "Best parameters: {'clf__C': 100, 'clf__solver': 'newton-cg', 'prep__Text__ngram_range': (1, 2)}"
   ]
  },
  {
   "cell_type": "code",
   "execution_count": 34,
   "id": "16183cd3",
   "metadata": {},
   "outputs": [
    {
     "name": "stdout",
     "output_type": "stream",
     "text": [
      "Best cross-validation accuracy: 0.867\n",
      "Test set score: 0.872\n",
      "Best parameters: {'clf__C': 100, 'clf__solver': 'newton-cg', 'prep__Text__ngram_range': (1, 2)}\n"
     ]
    }
   ],
   "source": [
    "grid = HalvingGridSearchCV(pipeline, \n",
    "                           parameters, \n",
    "                           scoring='f1_macro', \n",
    "                           cv=3).fit(X_train, y_train)\n",
    "\n",
    "\n",
    "print(\"Best cross-validation accuracy: {:.3f}\".format(grid.best_score_))\n",
    "print(\"Test set score: {:.3f}\".format(grid.score(X_test, y_test))) \n",
    "print(\"Best parameters: {}\".format(grid.best_params_))\n",
    "\n",
    "log_C_b = grid.best_params_['clf__C']\n",
    "log_solver_b = grid.best_params_['clf__solver']\n",
    "log_ngram_b = grid.best_params_['prep__Text__ngram_range']"
   ]
  },
  {
   "cell_type": "markdown",
   "id": "c8dec445",
   "metadata": {},
   "source": [
    "52m (but that's not right)\n",
    "\n",
    "Best cross-validation accuracy: 0.867\n",
    "Test set score: 0.872\n",
    "Best parameters: {'clf__C': 100, 'clf__solver': 'newton-cg', 'prep__Text__ngram_range': (1, 2)}"
   ]
  },
  {
   "cell_type": "markdown",
   "id": "63791d6a",
   "metadata": {},
   "source": [
    "**Notes:**\n",
    "1. **C:** \n",
    ">*Regularization is applying a penalty to increasing the magnitude of parameter values in order to reduce overfitting. When you train a model such as a logistic regression model, you are choosing parameters that give you the best fit to the data. This means minimizing the error between what the model predicts for your dependent variable given your data compared to what your dependent variable actually is. [6]*\n",
    "1. **Solver:** \n",
    ">*LIBLINEAR is a simple package for solving large-scale regularized linear\n",
    "classification, regression and outlier detection.*\n",
    "1. **N-Grams:** \n",
    ">*A bigram or digram is a sequence of two adjacent elements from a string of tokens, which are typically letters, syllables, or words. A bigram is an n-gram for n=2. The frequency distribution of every bigram in a string is commonly used for simple statistical analysis of text in many applications, including in computational linguistics, cryptography, and speech recognition*"
   ]
  },
  {
   "cell_type": "markdown",
   "id": "c4074df1",
   "metadata": {},
   "source": [
    "# PERFORMANCE ASSESSMENT\n",
    "\n",
    "Now that we have a model selected based on the cross-validation above, we can optimize the `Hyper Parameters` associated with the algorithm.  This allows for optimal results, potentially over and above the default settings.  "
   ]
  },
  {
   "cell_type": "markdown",
   "id": "36e748a8",
   "metadata": {},
   "source": [
    "## Model Evaluation"
   ]
  },
  {
   "cell_type": "code",
   "execution_count": 35,
   "id": "5a56de0a",
   "metadata": {},
   "outputs": [],
   "source": [
    "def fit_and_print(pipeline, name):\n",
    "    ''' take a supplied pipeline and run it against the train-test spit \n",
    "    and product scoring results.'''\n",
    "    \n",
    "    pipeline.fit(X_train, y_train)\n",
    "    y_pred = pipeline.predict(X_test)\n",
    "    score = metrics.f1_score(y_test, y_pred, average='macro')\n",
    "\n",
    "    print(metrics.classification_report(y_test, y_pred, digits=3))\n",
    "\n",
    "    ConfusionMatrixDisplay.from_predictions(y_test, \n",
    "                                            y_pred, \n",
    "                                            cmap=plt.cm.Blues)\n",
    "    \n",
    "    plt.tight_layout()\n",
    "    plt.title(name)\n",
    "    plt.ylabel('True Label')\n",
    "    plt.xlabel('Predicted Label')\n",
    "    plt.tight_layout()\n",
    "    plt.savefig(name + '.png', dpi=300) \n",
    "    plt.show; "
   ]
  },
  {
   "cell_type": "code",
   "execution_count": 36,
   "id": "d50276cf",
   "metadata": {},
   "outputs": [
    {
     "name": "stdout",
     "output_type": "stream",
     "text": [
      "              precision    recall  f1-score   support\n",
      "\n",
      "           0      0.789     0.845     0.816      9545\n",
      "           1      0.925     0.894     0.909     20370\n",
      "\n",
      "    accuracy                          0.879     29915\n",
      "   macro avg      0.857     0.869     0.863     29915\n",
      "weighted avg      0.882     0.879     0.880     29915\n",
      "\n"
     ]
    },
    {
     "data": {
      "image/png": "[encoded data removed]",
      "text/plain": [
       "<Figure size 432x288 with 2 Axes>"
      ]
     },
     "metadata": {
      "needs_background": "light"
     },
     "output_type": "display_data"
    }
   ],
   "source": [
    "clf = LogisticRegression(random_state=42, max_iter=500)\n",
    "pipeline = create_pipe(clf)\n",
    "fit_and_print(pipeline, 'hyper_defaults')"
   ]
  },
  {
   "cell_type": "code",
   "execution_count": 37,
   "id": "d50276cf",
   "metadata": {},
   "outputs": [
    {
     "name": "stdout",
     "output_type": "stream",
     "text": [
      "              precision    recall  f1-score   support\n",
      "\n",
      "           0      0.839     0.810     0.824      9545\n",
      "           1      0.913     0.927     0.920     20370\n",
      "\n",
      "    accuracy                          0.890     29915\n",
      "   macro avg      0.876     0.869     0.872     29915\n",
      "weighted avg      0.889     0.890     0.889     29915\n",
      "\n"
     ]
    },
    {
     "data": {
      "image/png": "[encoded data removed]",
      "text/plain": [
       "<Figure size 432x288 with 2 Axes>"
      ]
     },
     "metadata": {
      "needs_background": "light"
     },
     "output_type": "display_data"
    }
   ],
   "source": [
    "clf = LogisticRegression(C=log_C, solver=log_solver, random_state=42, max_iter=500)\n",
    "pipeline = create_pipe(clf, log_ngram)\n",
    "fit_and_print(pipeline, 'hyper_grid')"
   ]
  },
  {
   "cell_type": "code",
   "execution_count": 38,
   "id": "d50276cf",
   "metadata": {},
   "outputs": [
    {
     "name": "stdout",
     "output_type": "stream",
     "text": [
      "              precision    recall  f1-score   support\n",
      "\n",
      "           0      0.839     0.810     0.824      9545\n",
      "           1      0.913     0.927     0.920     20370\n",
      "\n",
      "    accuracy                          0.890     29915\n",
      "   macro avg      0.876     0.869     0.872     29915\n",
      "weighted avg      0.889     0.890     0.889     29915\n",
      "\n"
     ]
    },
    {
     "data": {
      "image/png": "[encoded data removed]",
      "text/plain": [
       "<Figure size 432x288 with 2 Axes>"
      ]
     },
     "metadata": {
      "needs_background": "light"
     },
     "output_type": "display_data"
    }
   ],
   "source": [
    "clf = LogisticRegression(C=log_C_b, solver=log_solver_b, random_state=42, max_iter=500)\n",
    "pipeline = create_pipe(clf, log_ngram_b)\n",
    "fit_and_print(pipeline, 'hyper_halving')"
   ]
  },
  {
   "cell_type": "markdown",
   "id": "c397a78c",
   "metadata": {},
   "source": [
    "https://towardsdatascience.com/hyperparameter-tuning-for-machine-learning-models-1b80d783b946"
   ]
  },
  {
   "cell_type": "code",
   "execution_count": null,
   "id": "4346c84a",
   "metadata": {},
   "outputs": [],
   "source": []
  }
 ],
 "metadata": {
  "kernelspec": {
   "display_name": "Python 3",
   "language": "python",
   "name": "python3"
  },
  "language_info": {
   "codemirror_mode": {
    "name": "ipython",
    "version": 3
   },
   "file_extension": ".py",
   "mimetype": "text/x-python",
   "name": "python",
   "nbconvert_exporter": "python",
   "pygments_lexer": "ipython3",
   "version": "3.9.10"
  },
  "toc-autonumbering": false,
  "toc-showcode": false,
  "toc-showmarkdowntxt": false
 },
 "nbformat": 4,
 "nbformat_minor": 5
}
